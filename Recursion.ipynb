{
 "cells": [
  {
   "cell_type": "code",
   "execution_count": null,
   "metadata": {},
   "outputs": [],
   "source": [
    "# Fibonacci Method Example\n",
    "\n",
    "def fibonacci(n):\n",
    "    if n <= 1:\n",
    "        return n\n",
    "    else:\n",
    "        return fibonacci(n - 1) + fibonacci(n - 2)"
   ]
  },
  {
   "cell_type": "markdown",
   "metadata": {},
   "source": [
    "Recursion\n",
    "\n",
    "•\tEach recursive call goes deeper into the function, breaking down the problem into smaller parts until the base case is reached.\n",
    "•\tOnce the base case is reached, the values are returned from the innermost calls and passed back up the chain.\n",
    "•\tEach \"level\" of the function waits for the values from deeper recursive calls, adds them together, and returns that result to the previous level.\n",
    "The return values keep \"bubbling up\" through the layers of recursive calls until you get the final result at the top level.\n"
   ]
  },
  {
   "cell_type": "markdown",
   "metadata": {},
   "source": [
    "Now, Let's See How the Returns Work:\n",
    "\n",
    "•\tReturning from fibonacci(2):\n",
    "o\tAt this point, fibonacci(2) had called both fibonacci(1) and fibonacci(0). It now adds the return values:\n",
    "\tfibonacci(1) returned 1.\n",
    "\tfibonacci(0) returned 0.\n",
    "o\tTherefore, fibonacci(2) returns 1 + 0 = 1.\n",
    "\n",
    "\n",
    "•\tReturning from fibonacci(3):\n",
    "o\tfibonacci(3) called fibonacci(2) and fibonacci(1).\n",
    "\tWe know that fibonacci(2) returns 1 (from the previous step).\n",
    "\tfibonacci(1) returns 1 (base case).\n",
    "o\tTherefore, fibonacci(3) returns 1 + 1 = 2.\n",
    "\n",
    "\n",
    "•\tReturning from fibonacci(4):\n",
    "o\tfibonacci(4) called fibonacci(3) and fibonacci(2).\n",
    "\tfibonacci(3) returns 2 (from the previous step).\n",
    "\tfibonacci(2) returns 1 (as we calculated earlier).\n",
    "o\tTherefore, fibonacci(4) returns 2 + 1 = 3.\n",
    "\n",
    "\n",
    "•\tReturning from fibonacci(5):\n",
    "o\tfibonacci(5) called fibonacci(4) and fibonacci(3).\n",
    "\tfibonacci(4) returns 3.\n",
    "\tfibonacci(3) returns 2.\n",
    "o\tTherefore, fibonacci(5) returns 3 + 2 = 5.\n"
   ]
  }
 ],
 "metadata": {
  "language_info": {
   "name": "python"
  }
 },
 "nbformat": 4,
 "nbformat_minor": 2
}
